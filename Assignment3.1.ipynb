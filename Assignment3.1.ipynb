{
  "nbformat": 4,
  "nbformat_minor": 0,
  "metadata": {
    "colab": {
      "name": "Untitled5.ipynb",
      "version": "0.3.2",
      "views": {},
      "default_view": {},
      "provenance": []
    },
    "kernelspec": {
      "name": "python3",
      "display_name": "Python 3"
    }
  },
  "cells": [
    {
      "metadata": {
        "id": "Zp-Z1Jnnn6BO",
        "colab_type": "code",
        "colab": {
          "autoexec": {
            "startup": false,
            "wait_interval": 0
          },
          "base_uri": "https://localhost:8080/",
          "height": 34
        },
        "outputId": "332820af-eaa0-4ac0-ecd6-5eca6cdd052b",
        "executionInfo": {
          "status": "ok",
          "timestamp": 1533045441064,
          "user_tz": -330,
          "elapsed": 731,
          "user": {
            "displayName": "Rajaram Tripathy",
            "photoUrl": "//lh6.googleusercontent.com/-i36HQO2rFzQ/AAAAAAAAAAI/AAAAAAAAAmk/wo74Cfd039M/s50-c-k-no/photo.jpg",
            "userId": "114877031278411201428"
          }
        }
      },
      "cell_type": "code",
      "source": [
        "##Assignment3.1\n",
        "\n",
        "#Task 1.1: Write a function to compute 5/0 and use try/except to catch the exceptions.\n",
        "\n",
        "def cal_div(div=0,d=0):\n",
        "    res=div/d\n",
        "    return res\n",
        "try:\n",
        "    q= cal_div(5) # function to compute 5/0\n",
        "except ZeroDivisionError:\n",
        "    print(\"ZerodivisonError:You are trying to do illegal divide by 0\")\n",
        "except:\n",
        "    print(\"This is generic excception\")"
      ],
      "execution_count": 1,
      "outputs": [
        {
          "output_type": "stream",
          "text": [
            "ZerodivisonError:You are trying to do illegal divide by 0\n"
          ],
          "name": "stdout"
        }
      ]
    },
    {
      "metadata": {
        "id": "cnwVILkMoUNm",
        "colab_type": "code",
        "colab": {
          "autoexec": {
            "startup": false,
            "wait_interval": 0
          },
          "base_uri": "https://localhost:8080/",
          "height": 153
        },
        "outputId": "1992070b-24c4-4bb7-a23a-0d687157e8bc",
        "executionInfo": {
          "status": "ok",
          "timestamp": 1533045499034,
          "user_tz": -330,
          "elapsed": 797,
          "user": {
            "displayName": "Rajaram Tripathy",
            "photoUrl": "//lh6.googleusercontent.com/-i36HQO2rFzQ/AAAAAAAAAAI/AAAAAAAAAmk/wo74Cfd039M/s50-c-k-no/photo.jpg",
            "userId": "114877031278411201428"
          }
        }
      },
      "cell_type": "code",
      "source": [
        "##Assignment3.1\n",
        "\n",
        "#Task 1.2: \n",
        "#Implement a Python program to generate all sentences where subject is in\n",
        "#[\"Americans\", \"Indians\"] and verb is in [\"Play\", \"watch\"] and the object is in\n",
        "#[\"Baseball\",\"cricket\"].\n",
        "#Hint: Subject,Verb and Object should be declared in the program as shown below.\n",
        "#subjects=[\"Americans \",\"Indians\"]\n",
        "#verbs=[\"play\",\"watch\"]\n",
        "#objects=[\"Baseball\",\"Cricket\"]\n",
        "#Output should come as below:\n",
        "#Americans play Baseball.\n",
        "#Americans play Cricket.\n",
        "#Americans watch Baseball.\n",
        "#Americans watch Cricket.\n",
        "#Indians play Baseball.\n",
        "#Indians play Cricket.\n",
        "#Indians watch Baseball.\n",
        "#Indians watch Cricket.\n",
        "\n",
        "subjects = [\"Americans\",\"Indians\"]\n",
        "verbs = [\"play\",\"watch\"]\n",
        "objects = [\"baseball\",\"cricket\"]\n",
        "\n",
        "sentence = [(i+\" \"+j+\" \"+k) for i in subjects for j in verbs for k in objects]\n",
        "for i in sentence:\n",
        "    print(i)"
      ],
      "execution_count": 2,
      "outputs": [
        {
          "output_type": "stream",
          "text": [
            "Americans play baseball\n",
            "Americans play cricket\n",
            "Americans watch baseball\n",
            "Americans watch cricket\n",
            "Indians play baseball\n",
            "Indians play cricket\n",
            "Indians watch baseball\n",
            "Indians watch cricket\n"
          ],
          "name": "stdout"
        }
      ]
    },
    {
      "metadata": {
        "id": "WnTEnZ9Soloy",
        "colab_type": "code",
        "colab": {
          "autoexec": {
            "startup": false,
            "wait_interval": 0
          },
          "base_uri": "https://localhost:8080/",
          "height": 187
        },
        "outputId": "41f142c9-2cc7-4703-ba03-2c252437ea34",
        "executionInfo": {
          "status": "ok",
          "timestamp": 1533047373190,
          "user_tz": -330,
          "elapsed": 980,
          "user": {
            "displayName": "Rajaram Tripathy",
            "photoUrl": "//lh6.googleusercontent.com/-i36HQO2rFzQ/AAAAAAAAAAI/AAAAAAAAAmk/wo74Cfd039M/s50-c-k-no/photo.jpg",
            "userId": "114877031278411201428"
          }
        }
      },
      "cell_type": "code",
      "source": [
        "##Assignment3.1\n",
        "\n",
        "#Task 2.1: Write a function so that the columns of the output matrix are powers of the input vector.\n",
        "\n",
        "import numpy as np\n",
        "\n",
        "N=5\n",
        "list1 = np.arange(1,11)\n",
        "np.vander(list1,N,increasing=True)\n"
      ],
      "execution_count": 6,
      "outputs": [
        {
          "output_type": "execute_result",
          "data": {
            "text/plain": [
              "array([[    1,     1,     1,     1,     1],\n",
              "       [    1,     2,     4,     8,    16],\n",
              "       [    1,     3,     9,    27,    81],\n",
              "       [    1,     4,    16,    64,   256],\n",
              "       [    1,     5,    25,   125,   625],\n",
              "       [    1,     6,    36,   216,  1296],\n",
              "       [    1,     7,    49,   343,  2401],\n",
              "       [    1,     8,    64,   512,  4096],\n",
              "       [    1,     9,    81,   729,  6561],\n",
              "       [    1,    10,   100,  1000, 10000]])"
            ]
          },
          "metadata": {
            "tags": []
          },
          "execution_count": 6
        }
      ]
    }
  ]
}